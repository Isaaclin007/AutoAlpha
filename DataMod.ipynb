{
 "cells": [
  {
   "cell_type": "markdown",
   "metadata": {},
   "source": [
    "# This Notebook will primarily concern itself with methods used to transform the data into a form and with features that are useful for time series forecasting"
   ]
  },
  {
   "cell_type": "markdown",
   "metadata": {},
   "source": [
    "## This will primarily be manipulation through pandas, with the data being reinserted into the CassDB under a new, manipulated table"
   ]
  },
  {
   "cell_type": "code",
   "execution_count": 2,
   "metadata": {},
   "outputs": [],
   "source": [
    "import pandas as pd"
   ]
  },
  {
   "cell_type": "code",
   "execution_count": 10,
   "metadata": {},
   "outputs": [],
   "source": [
    "#Establish a Cluster object that will connect to the cassandra keyspace\n",
    "from cassandra.cqlengine import connection\n",
    "from cassandra.cluster import Cluster\n",
    "from cassandra.cqlengine.management import sync_table\n",
    "connection.setup(['127.0.0.1'],\"sp500\",protocol_version=3)\n",
    "cluster = Cluster()\n",
    "session = cluster.connect('sp500')\n",
    "#Import the ORM Model to later import derived data\n",
    "from cassandra.cqlengine.models import Model\n",
    "from cassandra.cqlengine import columns"
   ]
  },
  {
   "cell_type": "code",
   "execution_count": 17,
   "metadata": {},
   "outputs": [],
   "source": [
    "#Let's try to query something simple out\n",
    "# I'll use the dictionary factory to make it play nice with pandas\n",
    "from cassandra.query import dict_factory\n",
    "session.row_factory = dict_factory"
   ]
  },
  {
   "cell_type": "code",
   "execution_count": 21,
   "metadata": {},
   "outputs": [],
   "source": [
    "#Instantiate an empty dataframe\n",
    "raw_df = pd.DataFrame()"
   ]
  },
  {
   "cell_type": "code",
   "execution_count": null,
   "metadata": {},
   "outputs": [],
   "source": [
    "result = session.execute(\"SELECT * FROM raw_data LIMIT 100\")"
   ]
  }
 ],
 "metadata": {
  "kernelspec": {
   "display_name": "Python 3",
   "language": "python",
   "name": "python3"
  },
  "language_info": {
   "codemirror_mode": {
    "name": "ipython",
    "version": 3
   },
   "file_extension": ".py",
   "mimetype": "text/x-python",
   "name": "python",
   "nbconvert_exporter": "python",
   "pygments_lexer": "ipython3",
   "version": "3.6.8"
  }
 },
 "nbformat": 4,
 "nbformat_minor": 2
}
