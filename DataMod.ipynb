{
 "cells": [
  {
   "cell_type": "markdown",
   "metadata": {},
   "source": [
    "# This Notebook will primarily concern itself with methods used to transform the data into a form and with features that are useful for time series forecasting"
   ]
  },
  {
   "cell_type": "markdown",
   "metadata": {},
   "source": [
    "## This will primarily be manipulation through pandas, with the data being reinserted into the CassDB under a new, manipulated table"
   ]
  },
  {
   "cell_type": "code",
   "execution_count": null,
   "metadata": {},
   "outputs": [],
   "source": []
  },
  {
   "cell_type": "code",
   "execution_count": 1,
   "metadata": {},
   "outputs": [
    {
     "data": {
      "text/plain": [
       "(1258, 14)"
      ]
     },
     "execution_count": 1,
     "metadata": {},
     "output_type": "execute_result"
    }
   ],
   "source": [
    "import pandas as pd #A great way to start your codeblock\n",
    "#Establish a Cluster object that will connect to the cassandra keyspace\n",
    "from cassandra.cqlengine import connection\n",
    "from cassandra.cluster import Cluster\n",
    "from cassandra.cqlengine.management import sync_table\n",
    "connection.setup(['127.0.0.1'],\"sp500\",protocol_version=3)\n",
    "cluster = Cluster()\n",
    "session = cluster.connect('sp500')\n",
    "#Import the ORM Model to later import derived data\n",
    "from cassandra.cqlengine.models import Model\n",
    "from cassandra.cqlengine import columns\n",
    "#Let's try to query something simple out\n",
    "# I'll use the dictionary factory to make it play nice with pandas\n",
    "from cassandra.query import dict_factory\n",
    "session.row_factory = dict_factory\n",
    "result = session.execute(\"select * from raw_data WHERE ticker = 'AAPL';\")\n",
    "raw_df = pd.DataFrame.from_dict(result)\n",
    "raw_df.shape #There are about ~250 trading days per year, so we expect ~1250 days from 5 years of data"
   ]
  },
  {
   "cell_type": "code",
   "execution_count": null,
   "metadata": {},
   "outputs": [],
   "source": []
  },
  {
   "cell_type": "code",
   "execution_count": null,
   "metadata": {},
   "outputs": [],
   "source": []
  },
  {
   "cell_type": "code",
   "execution_count": null,
   "metadata": {},
   "outputs": [],
   "source": []
  },
  {
   "cell_type": "code",
   "execution_count": 2,
   "metadata": {},
   "outputs": [
    {
     "data": {
      "text/html": [
       "<div>\n",
       "<style scoped>\n",
       "    .dataframe tbody tr th:only-of-type {\n",
       "        vertical-align: middle;\n",
       "    }\n",
       "\n",
       "    .dataframe tbody tr th {\n",
       "        vertical-align: top;\n",
       "    }\n",
       "\n",
       "    .dataframe thead th {\n",
       "        text-align: right;\n",
       "    }\n",
       "</style>\n",
       "<table border=\"1\" class=\"dataframe\">\n",
       "  <thead>\n",
       "    <tr style=\"text-align: right;\">\n",
       "      <th></th>\n",
       "      <th>index</th>\n",
       "      <th>change</th>\n",
       "      <th>changeOverTime</th>\n",
       "      <th>changePercent</th>\n",
       "      <th>close</th>\n",
       "      <th>date</th>\n",
       "      <th>high</th>\n",
       "      <th>id</th>\n",
       "      <th>label</th>\n",
       "      <th>low</th>\n",
       "      <th>open</th>\n",
       "      <th>ticker</th>\n",
       "      <th>unadjustedVolume</th>\n",
       "      <th>volume</th>\n",
       "      <th>vwap</th>\n",
       "    </tr>\n",
       "  </thead>\n",
       "  <tbody>\n",
       "    <tr>\n",
       "      <th>0</th>\n",
       "      <td>805</td>\n",
       "      <td>-0.040710</td>\n",
       "      <td>0.000000</td>\n",
       "      <td>-0.058</td>\n",
       "      <td>69.663696</td>\n",
       "      <td>2014-03-07</td>\n",
       "      <td>69.865898</td>\n",
       "      <td>fd320f58-4094-11e9-9968-107b44927731</td>\n",
       "      <td>Mar 7, 14</td>\n",
       "      <td>69.087097</td>\n",
       "      <td>69.749100</td>\n",
       "      <td>AAPL</td>\n",
       "      <td>7916463</td>\n",
       "      <td>55415241</td>\n",
       "      <td>69.484398</td>\n",
       "    </tr>\n",
       "    <tr>\n",
       "      <th>1</th>\n",
       "      <td>838</td>\n",
       "      <td>0.063038</td>\n",
       "      <td>0.000904</td>\n",
       "      <td>0.090</td>\n",
       "      <td>69.726700</td>\n",
       "      <td>2014-03-10</td>\n",
       "      <td>70.043198</td>\n",
       "      <td>fd3284ae-4094-11e9-a17a-107b44927731</td>\n",
       "      <td>Mar 10, 14</td>\n",
       "      <td>69.387802</td>\n",
       "      <td>69.390503</td>\n",
       "      <td>AAPL</td>\n",
       "      <td>6384490</td>\n",
       "      <td>44691430</td>\n",
       "      <td>69.785698</td>\n",
       "    </tr>\n",
       "    <tr>\n",
       "      <th>2</th>\n",
       "      <td>729</td>\n",
       "      <td>0.678987</td>\n",
       "      <td>0.010651</td>\n",
       "      <td>0.974</td>\n",
       "      <td>70.405701</td>\n",
       "      <td>2014-03-11</td>\n",
       "      <td>70.753700</td>\n",
       "      <td>fd3320dc-4094-11e9-b978-107b44927731</td>\n",
       "      <td>Mar 11, 14</td>\n",
       "      <td>69.945999</td>\n",
       "      <td>70.321701</td>\n",
       "      <td>AAPL</td>\n",
       "      <td>10028407</td>\n",
       "      <td>70198849</td>\n",
       "      <td>70.484802</td>\n",
       "    </tr>\n",
       "    <tr>\n",
       "      <th>3</th>\n",
       "      <td>240</td>\n",
       "      <td>0.068289</td>\n",
       "      <td>0.011632</td>\n",
       "      <td>0.097</td>\n",
       "      <td>70.473999</td>\n",
       "      <td>2014-03-12</td>\n",
       "      <td>70.571198</td>\n",
       "      <td>fd33e492-4094-11e9-b7b9-107b44927731</td>\n",
       "      <td>Mar 12, 14</td>\n",
       "      <td>69.868599</td>\n",
       "      <td>70.198196</td>\n",
       "      <td>AAPL</td>\n",
       "      <td>7170780</td>\n",
       "      <td>50195460</td>\n",
       "      <td>70.286400</td>\n",
       "    </tr>\n",
       "    <tr>\n",
       "      <th>4</th>\n",
       "      <td>918</td>\n",
       "      <td>-0.782734</td>\n",
       "      <td>0.000396</td>\n",
       "      <td>-1.111</td>\n",
       "      <td>69.691299</td>\n",
       "      <td>2014-03-13</td>\n",
       "      <td>70.874603</td>\n",
       "      <td>fd34a7ec-4094-11e9-bae1-107b44927731</td>\n",
       "      <td>Mar 13, 14</td>\n",
       "      <td>69.495598</td>\n",
       "      <td>70.583000</td>\n",
       "      <td>AAPL</td>\n",
       "      <td>9205087</td>\n",
       "      <td>64435609</td>\n",
       "      <td>70.101303</td>\n",
       "    </tr>\n",
       "  </tbody>\n",
       "</table>\n",
       "</div>"
      ],
      "text/plain": [
       "   index    change  changeOverTime  changePercent      close        date  \\\n",
       "0    805 -0.040710        0.000000         -0.058  69.663696  2014-03-07   \n",
       "1    838  0.063038        0.000904          0.090  69.726700  2014-03-10   \n",
       "2    729  0.678987        0.010651          0.974  70.405701  2014-03-11   \n",
       "3    240  0.068289        0.011632          0.097  70.473999  2014-03-12   \n",
       "4    918 -0.782734        0.000396         -1.111  69.691299  2014-03-13   \n",
       "\n",
       "        high                                    id       label        low  \\\n",
       "0  69.865898  fd320f58-4094-11e9-9968-107b44927731   Mar 7, 14  69.087097   \n",
       "1  70.043198  fd3284ae-4094-11e9-a17a-107b44927731  Mar 10, 14  69.387802   \n",
       "2  70.753700  fd3320dc-4094-11e9-b978-107b44927731  Mar 11, 14  69.945999   \n",
       "3  70.571198  fd33e492-4094-11e9-b7b9-107b44927731  Mar 12, 14  69.868599   \n",
       "4  70.874603  fd34a7ec-4094-11e9-bae1-107b44927731  Mar 13, 14  69.495598   \n",
       "\n",
       "        open ticker  unadjustedVolume    volume       vwap  \n",
       "0  69.749100   AAPL           7916463  55415241  69.484398  \n",
       "1  69.390503   AAPL           6384490  44691430  69.785698  \n",
       "2  70.321701   AAPL          10028407  70198849  70.484802  \n",
       "3  70.198196   AAPL           7170780  50195460  70.286400  \n",
       "4  70.583000   AAPL           9205087  64435609  70.101303  "
      ]
     },
     "execution_count": 2,
     "metadata": {},
     "output_type": "execute_result"
    }
   ],
   "source": [
    "df_sorted = raw_df.sort_values('date')\n",
    "df_sorted = df_sorted.reset_index()\n",
    "df_sorted.head()"
   ]
  },
  {
   "cell_type": "code",
   "execution_count": 3,
   "metadata": {},
   "outputs": [],
   "source": [
    "import matplotlib\n",
    "plot = df_sorted.plot(x='date',y='close')"
   ]
  },
  {
   "cell_type": "code",
   "execution_count": 4,
   "metadata": {},
   "outputs": [
    {
     "data": {
      "text/plain": [
       "count    1258.000000\n",
       "mean      129.459866\n",
       "std        38.062601\n",
       "min        68.024696\n",
       "25%       101.089825\n",
       "50%       116.551903\n",
       "75%       157.937450\n",
       "max       230.275406\n",
       "Name: close, dtype: float64"
      ]
     },
     "execution_count": 4,
     "metadata": {},
     "output_type": "execute_result"
    }
   ],
   "source": [
    "df_sorted['close'].describe()"
   ]
  },
  {
   "cell_type": "code",
   "execution_count": 5,
   "metadata": {},
   "outputs": [
    {
     "data": {
      "text/plain": [
       "<matplotlib.axes._subplots.AxesSubplot at 0x1e4a9b955c0>"
      ]
     },
     "execution_count": 5,
     "metadata": {},
     "output_type": "execute_result"
    },
    {
     "data": {
      "image/png": "[encoded data removed]",
      "text/plain": [
       "<Figure size 432x288 with 1 Axes>"
      ]
     },
     "metadata": {
      "needs_background": "light"
     },
     "output_type": "display_data"
    }
   ],
   "source": [
    "df_sorted['close'].hist()"
   ]
  },
  {
   "cell_type": "code",
   "execution_count": 6,
   "metadata": {},
   "outputs": [
    {
     "data": {
      "text/html": [
       "<div>\n",
       "<style scoped>\n",
       "    .dataframe tbody tr th:only-of-type {\n",
       "        vertical-align: middle;\n",
       "    }\n",
       "\n",
       "    .dataframe tbody tr th {\n",
       "        vertical-align: top;\n",
       "    }\n",
       "\n",
       "    .dataframe thead th {\n",
       "        text-align: right;\n",
       "    }\n",
       "</style>\n",
       "<table border=\"1\" class=\"dataframe\">\n",
       "  <thead>\n",
       "    <tr style=\"text-align: right;\">\n",
       "      <th></th>\n",
       "      <th>index</th>\n",
       "      <th>change</th>\n",
       "      <th>changeOverTime</th>\n",
       "      <th>changePercent</th>\n",
       "      <th>close</th>\n",
       "      <th>date</th>\n",
       "      <th>high</th>\n",
       "      <th>id</th>\n",
       "      <th>label</th>\n",
       "      <th>low</th>\n",
       "      <th>open</th>\n",
       "      <th>ticker</th>\n",
       "      <th>unadjustedVolume</th>\n",
       "      <th>volume</th>\n",
       "      <th>vwap</th>\n",
       "    </tr>\n",
       "  </thead>\n",
       "  <tbody>\n",
       "    <tr>\n",
       "      <th>880</th>\n",
       "      <td>1091</td>\n",
       "      <td>0.048875</td>\n",
       "      <td>1.301869</td>\n",
       "      <td>0.030</td>\n",
       "      <td>160.356705</td>\n",
       "      <td>2017-09-01</td>\n",
       "      <td>161.226700</td>\n",
       "      <td>ff58fe92-4094-11e9-9d46-107b44927731</td>\n",
       "      <td>Sep 1, 17</td>\n",
       "      <td>159.946198</td>\n",
       "      <td>161.089798</td>\n",
       "      <td>AAPL</td>\n",
       "      <td>16591051</td>\n",
       "      <td>16591051</td>\n",
       "      <td>160.426300</td>\n",
       "    </tr>\n",
       "    <tr>\n",
       "      <th>881</th>\n",
       "      <td>1034</td>\n",
       "      <td>-1.925700</td>\n",
       "      <td>1.274227</td>\n",
       "      <td>-1.201</td>\n",
       "      <td>158.431107</td>\n",
       "      <td>2017-09-05</td>\n",
       "      <td>160.552200</td>\n",
       "      <td>ff59c1e8-4094-11e9-ab3a-107b44927731</td>\n",
       "      <td>Sep 5, 17</td>\n",
       "      <td>156.945297</td>\n",
       "      <td>160.063507</td>\n",
       "      <td>AAPL</td>\n",
       "      <td>29536314</td>\n",
       "      <td>29536314</td>\n",
       "      <td>158.716904</td>\n",
       "    </tr>\n",
       "    <tr>\n",
       "      <th>882</th>\n",
       "      <td>13</td>\n",
       "      <td>-0.166173</td>\n",
       "      <td>1.271842</td>\n",
       "      <td>-0.105</td>\n",
       "      <td>158.264893</td>\n",
       "      <td>2017-09-06</td>\n",
       "      <td>159.320602</td>\n",
       "      <td>ff5a5db4-4094-11e9-84e4-107b44927731</td>\n",
       "      <td>Sep 6, 17</td>\n",
       "      <td>156.906204</td>\n",
       "      <td>159.046906</td>\n",
       "      <td>AAPL</td>\n",
       "      <td>21651726</td>\n",
       "      <td>21651726</td>\n",
       "      <td>158.109100</td>\n",
       "    </tr>\n",
       "    <tr>\n",
       "      <th>883</th>\n",
       "      <td>338</td>\n",
       "      <td>-0.635365</td>\n",
       "      <td>1.262721</td>\n",
       "      <td>-0.401</td>\n",
       "      <td>157.629501</td>\n",
       "      <td>2017-09-07</td>\n",
       "      <td>158.587494</td>\n",
       "      <td>ff5b2192-4094-11e9-b192-107b44927731</td>\n",
       "      <td>Sep 7, 17</td>\n",
       "      <td>156.749802</td>\n",
       "      <td>158.440796</td>\n",
       "      <td>AAPL</td>\n",
       "      <td>21928502</td>\n",
       "      <td>21928502</td>\n",
       "      <td>157.765396</td>\n",
       "    </tr>\n",
       "    <tr>\n",
       "      <th>884</th>\n",
       "      <td>167</td>\n",
       "      <td>-2.570800</td>\n",
       "      <td>1.225818</td>\n",
       "      <td>-1.631</td>\n",
       "      <td>155.058701</td>\n",
       "      <td>2017-09-08</td>\n",
       "      <td>157.522003</td>\n",
       "      <td>ff5be4ee-4094-11e9-a18a-107b44927731</td>\n",
       "      <td>Sep 8, 17</td>\n",
       "      <td>154.960999</td>\n",
       "      <td>157.238495</td>\n",
       "      <td>AAPL</td>\n",
       "      <td>28611535</td>\n",
       "      <td>28611535</td>\n",
       "      <td>155.943298</td>\n",
       "    </tr>\n",
       "  </tbody>\n",
       "</table>\n",
       "</div>"
      ],
      "text/plain": [
       "     index    change  changeOverTime  changePercent       close        date  \\\n",
       "880   1091  0.048875        1.301869          0.030  160.356705  2017-09-01   \n",
       "881   1034 -1.925700        1.274227         -1.201  158.431107  2017-09-05   \n",
       "882     13 -0.166173        1.271842         -0.105  158.264893  2017-09-06   \n",
       "883    338 -0.635365        1.262721         -0.401  157.629501  2017-09-07   \n",
       "884    167 -2.570800        1.225818         -1.631  155.058701  2017-09-08   \n",
       "\n",
       "           high                                    id      label         low  \\\n",
       "880  161.226700  ff58fe92-4094-11e9-9d46-107b44927731  Sep 1, 17  159.946198   \n",
       "881  160.552200  ff59c1e8-4094-11e9-ab3a-107b44927731  Sep 5, 17  156.945297   \n",
       "882  159.320602  ff5a5db4-4094-11e9-84e4-107b44927731  Sep 6, 17  156.906204   \n",
       "883  158.587494  ff5b2192-4094-11e9-b192-107b44927731  Sep 7, 17  156.749802   \n",
       "884  157.522003  ff5be4ee-4094-11e9-a18a-107b44927731  Sep 8, 17  154.960999   \n",
       "\n",
       "           open ticker  unadjustedVolume    volume        vwap  \n",
       "880  161.089798   AAPL          16591051  16591051  160.426300  \n",
       "881  160.063507   AAPL          29536314  29536314  158.716904  \n",
       "882  159.046906   AAPL          21651726  21651726  158.109100  \n",
       "883  158.440796   AAPL          21928502  21928502  157.765396  \n",
       "884  157.238495   AAPL          28611535  28611535  155.943298  "
      ]
     },
     "execution_count": 6,
     "metadata": {},
     "output_type": "execute_result"
    }
   ],
   "source": [
    "#Create training and testing df's\n",
    "training_cut = int(df_sorted.shape[0] * 0.7)\n",
    "training_df = df_sorted.iloc[0:training_cut]\n",
    "testing_df = df_sorted.iloc[training_cut:]\n",
    "testing_df.head()"
   ]
  },
  {
   "cell_type": "code",
   "execution_count": null,
   "metadata": {},
   "outputs": [],
   "source": []
  },
  {
   "cell_type": "code",
   "execution_count": 7,
   "metadata": {},
   "outputs": [],
   "source": [
    "from statsmodels.tsa.arima_model import ARIMA\n",
    "def fit_random_walk(training_series,p=0,d=1,q=0):\n",
    "    model = ARIMA(training_series,order=(p,d,q))\n",
    "    model_fit = model.fit()\n",
    "    return model_fit\n",
    "\n",
    "def forecast(ARIMA_model_fit,steps_out):\n",
    "    model_fit = ARIMA_model_fit\n",
    "    prediction = model_fit.forecast(steps=steps_out)\n",
    "    return prediction[0]"
   ]
  },
  {
   "cell_type": "code",
   "execution_count": 11,
   "metadata": {},
   "outputs": [],
   "source": [
    "model_fit = fit_random_walk(training_df['close'])\n",
    "list_of_actuals = []\n",
    "list_of_dates = []\n",
    "\n",
    "for i in range(len(testing_df['close'])):\n",
    "    actual_close = testing_df['close'].iloc[i]\n",
    "    date = testing_df['date'].iloc[i]\n",
    "    \n",
    "    if i == 0:\n",
    "        predicted_close = forecast(model_fit,1)\n",
    "    else:\n",
    "        predicted_close = forecast(model_fit,i+1)\n",
    "        list_of_actuals.append(actual_close)\n",
    "        list_of_dates.append(date)"
   ]
  },
  {
   "cell_type": "code",
   "execution_count": 18,
   "metadata": {},
   "outputs": [
    {
     "name": "stdout",
     "output_type": "stream",
     "text": [
      "377 377 377\n"
     ]
    },
    {
     "name": "stderr",
     "output_type": "stream",
     "text": [
      "C:\\Users\\micha\\Anaconda3\\envs\\autoalpha\\lib\\site-packages\\ipykernel_launcher.py:2: DeprecationWarning: using a non-integer array as obj in delete will result in an error in the future\n",
      "  \n"
     ]
    }
   ],
   "source": [
    "predicted_close = np.delete(predicted_close,predicted_close[-1])\n",
    "import numpy as np\n",
    "arr_actuals = np.asarray(list_of_actuals)\n",
    "arr_dates = np.asarray(list_of_dates)\n",
    "print(len(arr_actuals),len(predicted_close),len(arr_dates))"
   ]
  },
  {
   "cell_type": "code",
   "execution_count": 19,
   "metadata": {},
   "outputs": [
    {
     "data": {
      "text/plain": [
       "<matplotlib.axes._subplots.AxesSubplot at 0x1e4abfec588>"
      ]
     },
     "execution_count": 19,
     "metadata": {},
     "output_type": "execute_result"
    },
    {
     "data": {
      "image/png": "[encoded data removed]",
      "text/plain": [
       "<Figure size 432x288 with 1 Axes>"
      ]
     },
     "metadata": {
      "needs_background": "light"
     },
     "output_type": "display_data"
    }
   ],
   "source": [
    "predicted_df = pd.DataFrame(data={'Actual Close $':arr_actuals,'Predicted Close $':predicted_close,'date':arr_dates})\n",
    "predicted_df.plot()"
   ]
  },
  {
   "cell_type": "code",
   "execution_count": null,
   "metadata": {},
   "outputs": [],
   "source": []
  }
 ],
 "metadata": {
  "kernelspec": {
   "display_name": "Python 3",
   "language": "python",
   "name": "python3"
  },
  "language_info": {
   "codemirror_mode": {
    "name": "ipython",
    "version": 3
   },
   "file_extension": ".py",
   "mimetype": "text/x-python",
   "name": "python",
   "nbconvert_exporter": "python",
   "pygments_lexer": "ipython3",
   "version": "3.6.8"
  }
 },
 "nbformat": 4,
 "nbformat_minor": 2
}
